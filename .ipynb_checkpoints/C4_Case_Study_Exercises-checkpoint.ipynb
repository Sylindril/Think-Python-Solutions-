{
 "cells": [
  {
   "cell_type": "markdown",
   "id": "31870e2d-628f-417b-85a5-211aa3b0f8bd",
   "metadata": {
    "tags": []
   },
   "source": [
    "# Exercises"
   ]
  },
  {
   "cell_type": "code",
   "execution_count": 1,
   "id": "b40aa955-3f48-4258-b03e-e729ae76f2ad",
   "metadata": {},
   "outputs": [],
   "source": [
    "#code from https://github.com/AllenDowney/ThinkPython2/blob/master/code/polygon.py\n",
    "\n",
    "import turtle\n",
    "import math\n",
    "from __future__ import print_function, division\n",
    "\n",
    "\n",
    "def square(t, length):\n",
    "    \"\"\"Draws a square with sides of the given length.\n",
    "    Returns the Turtle to the starting position and location.\n",
    "    \"\"\"\n",
    "    for i in range(4):\n",
    "        t.fd(length)\n",
    "        t.lt(90)\n",
    "\n",
    "\n",
    "def polyline(t, n, length, angle):\n",
    "    \"\"\"Draws n line segments.\n",
    "    t: Turtle object\n",
    "    n: number of line segments\n",
    "    length: length of each segment\n",
    "    angle: degrees between segments\n",
    "    \"\"\"\n",
    "    for i in range(n):\n",
    "        t.fd(length)\n",
    "        t.lt(angle)\n",
    "\n",
    "\n",
    "def polygon(t, n, length):\n",
    "    \"\"\"Draws a polygon with n sides.\n",
    "    t: Turtle\n",
    "    n: number of sides\n",
    "    length: length of each side.\n",
    "    \"\"\"\n",
    "    angle = 360.0/n\n",
    "    polyline(t, n, length, angle)\n",
    "\n",
    "\n",
    "def arc(t, r, angle):\n",
    "    \"\"\"Draws an arc with the given radius and angle.\n",
    "    t: Turtle\n",
    "    r: radius\n",
    "    angle: angle subtended by the arc, in degrees\n",
    "    \"\"\"\n",
    "    arc_length = 2 * math.pi * r * abs(angle) / 360\n",
    "    n = int(arc_length / 4) + 3\n",
    "    step_length = arc_length / n\n",
    "    step_angle = float(angle) / n\n",
    "\n",
    "    # making a slight left turn before starting reduces\n",
    "    # the error caused by the linear approximation of the arc\n",
    "    t.lt(step_angle/2)\n",
    "    polyline(t, n, step_length, step_angle)\n",
    "    t.rt(step_angle/2)\n",
    "\n",
    "\n",
    "def circle(t, r):\n",
    "    \"\"\"Draws a circle with the given radius.\n",
    "    t: Turtle\n",
    "    r: radius\n",
    "    \"\"\"\n",
    "    arc(t, r, 360)\n",
    "\n",
    "\n",
    "# the following condition checks whether we are\n",
    "# running as a script, in which case run the test code,\n",
    "# or being imported, in which case don't.\n",
    "\n",
    "if __name__ == '__main__':\n",
    "    bob = turtle.Turtle()\n",
    "\n",
    "    # draw a circle centered on the origin\n",
    "    radius = 100\n",
    "    bob.pu()\n",
    "    bob.fd(radius)\n",
    "    bob.lt(90)\n",
    "    bob.pd()\n",
    "    circle(bob, radius)\n",
    "\n",
    "    # wait for the user to close the window\n",
    "    turtle.mainloop()"
   ]
  },
  {
   "cell_type": "markdown",
   "id": "87c28bda-07d9-4cf9-9781-06733290f2f2",
   "metadata": {},
   "source": [
    "### Exercise 4-1"
   ]
  },
  {
   "cell_type": "code",
   "execution_count": 2,
   "id": "26c89510-56be-448a-ad88-69021dd62fcb",
   "metadata": {},
   "outputs": [],
   "source": [
    "#1"
   ]
  },
  {
   "cell_type": "code",
   "execution_count": 7,
   "id": "d94bbd44-8a2f-49be-8724-4238e2db54cf",
   "metadata": {},
   "outputs": [
    {
     "name": "stdout",
     "output_type": "stream",
     "text": [
      "__main__ -> circle -> arc -> polyline (Flow of control)\n",
      "__main__ :\n",
      "    bob    ---> turtle.Turtle()\n",
      "    radius ---> 100\n",
      "    \n",
      "circle :\n",
      "      t ---> bob\n",
      "      r ---> 100\n",
      "      \n",
      "arc :\n",
      "    t           ---> bob\n",
      "    r           ---> 100\n",
      "    angle       ---> 360\n",
      "    arc_length  ---> 628.3185307179587\n",
      "    n           ---> 158\n",
      "    step_length ---> 3.9766995615060674\n",
      "    step_angle  ---> 2.278481012658228\n",
      "      \n",
      "polyline:\n",
      "    t      ---> bob\n",
      "    n      ---> 158\n",
      "    length ---> 3.9766995615060674\n",
      "    angle  ---> 2.278481012658228\n"
     ]
    }
   ],
   "source": [
    "print(\"__main__ -> circle -> arc -> polyline (Flow of control)\")\n",
    "print('''__main__ :\n",
    "    bob    ---> turtle.Turtle()\n",
    "    radius ---> 100\n",
    "    \n",
    "circle :\n",
    "      t ---> bob\n",
    "      r ---> 100\n",
    "      \n",
    "arc :\n",
    "    t           ---> bob\n",
    "    r           ---> 100\n",
    "    angle       ---> 360\n",
    "    arc_length  ---> 628.3185307179587\n",
    "    n           ---> 158\n",
    "    step_length ---> 3.9766995615060674\n",
    "    step_angle  ---> 2.278481012658228\n",
    "      \n",
    "polyline:\n",
    "    t      ---> bob\n",
    "    n      ---> 158\n",
    "    length ---> 3.9766995615060674\n",
    "    angle  ---> 2.278481012658228''')\n",
    "     \n",
    "          "
   ]
  },
  {
   "cell_type": "code",
   "execution_count": null,
   "id": "94b26387-e75f-494e-9896-0201a681e83c",
   "metadata": {},
   "outputs": [],
   "source": []
  }
 ],
 "metadata": {
  "kernelspec": {
   "display_name": "Python 3 (ipykernel)",
   "language": "python",
   "name": "python3"
  },
  "language_info": {
   "codemirror_mode": {
    "name": "ipython",
    "version": 3
   },
   "file_extension": ".py",
   "mimetype": "text/x-python",
   "name": "python",
   "nbconvert_exporter": "python",
   "pygments_lexer": "ipython3",
   "version": "3.10.5"
  }
 },
 "nbformat": 4,
 "nbformat_minor": 5
}
