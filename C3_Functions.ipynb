{
 "cells": [
  {
   "cell_type": "markdown",
   "id": "36a0aa87-8f07-4b7c-be8d-335d65f49077",
   "metadata": {},
   "source": [
    "# Exercises"
   ]
  },
  {
   "cell_type": "markdown",
   "id": "9b85d39b-c3cc-409d-b9b3-589e7f27b78b",
   "metadata": {},
   "source": [
    "### Exercise 3-1"
   ]
  },
  {
   "cell_type": "code",
   "execution_count": 1,
   "id": "e402e6c0-8178-4856-a8a6-802cca347d25",
   "metadata": {},
   "outputs": [
    {
     "name": "stdin",
     "output_type": "stream",
     "text": [
      "Enter a string chupacabra\n"
     ]
    }
   ],
   "source": [
    "s = input(\"Enter a string\") #Allows user to define s (assumed to be <70 characters)"
   ]
  },
  {
   "cell_type": "code",
   "execution_count": 7,
   "id": "100588a9-ce66-49d6-8a26-5d9f63e3d1be",
   "metadata": {},
   "outputs": [],
   "source": [
    "def right_justify(input_str):\n",
    "    s_len = len(s)\n",
    "    space_str = ' '*(70 - s_len) #creates a string of spaces, with length depending upon input string\n",
    "    print(space_str + input_str)\n",
    "    #Uncomment the below code to verify the new string length is 70, i.e the last letter of s is in col 70 of display\n",
    "    #print(len(space_str + input_str)) \n"
   ]
  },
  {
   "cell_type": "code",
   "execution_count": 8,
   "id": "785e4d82-79ec-4c3b-b5e5-f61e756d4001",
   "metadata": {},
   "outputs": [
    {
     "name": "stdout",
     "output_type": "stream",
     "text": [
      "                                                            chupacabra\n"
     ]
    }
   ],
   "source": [
    "right_justify(s)"
   ]
  },
  {
   "cell_type": "markdown",
   "id": "c3ea068c-ca8e-4844-9469-a1700b32ff34",
   "metadata": {},
   "source": [
    "### Exercise 3-2"
   ]
  },
  {
   "cell_type": "code",
   "execution_count": 9,
   "id": "7801b667-d9ed-4d3c-99b2-055a794f2fd9",
   "metadata": {},
   "outputs": [
    {
     "name": "stdout",
     "output_type": "stream",
     "text": [
      "spam\n",
      "spam\n"
     ]
    }
   ],
   "source": [
    "#1\n",
    "def do_twice(f):\n",
    "    f()\n",
    "    f()\n",
    "\n",
    "def print_spam():\n",
    "    print('spam')\n",
    "\n",
    "do_twice(print_spam)"
   ]
  },
  {
   "cell_type": "code",
   "execution_count": 13,
   "id": "a799346e-6a68-4412-bae1-92e01f9b18e5",
   "metadata": {},
   "outputs": [],
   "source": [
    "#2\n",
    "def do_twice_mod(f,val):\n",
    "    f(val)\n",
    "    f(val)"
   ]
  },
  {
   "cell_type": "code",
   "execution_count": 14,
   "id": "2586074f-4112-4758-93d1-08e3b8fe7069",
   "metadata": {},
   "outputs": [],
   "source": [
    "#3\n",
    "def print_twice(x):\n",
    "    print(x)\n",
    "    print(x)"
   ]
  },
  {
   "cell_type": "code",
   "execution_count": 15,
   "id": "022e4d41-6c34-4dd5-80d2-82e9fdc5b1aa",
   "metadata": {},
   "outputs": [
    {
     "name": "stdout",
     "output_type": "stream",
     "text": [
      "spam\n",
      "spam\n",
      "spam\n",
      "spam\n"
     ]
    }
   ],
   "source": [
    "#4\n",
    "do_twice_mod(print_twice,'spam')"
   ]
  },
  {
   "cell_type": "code",
   "execution_count": 16,
   "id": "3be2dab1-207a-4512-98e5-7feeb0b35638",
   "metadata": {},
   "outputs": [],
   "source": [
    "#5\n",
    "def do_four(f,val):\n",
    "    do_twice_mod(f,val)\n",
    "    do_twice_mod(f,val)\n"
   ]
  },
  {
   "cell_type": "code",
   "execution_count": 17,
   "id": "2a1b2e4f-a39e-4067-8839-a5b2eb4f9c16",
   "metadata": {},
   "outputs": [
    {
     "name": "stdout",
     "output_type": "stream",
     "text": [
      "5\n",
      "5\n",
      "5\n",
      "5\n"
     ]
    }
   ],
   "source": [
    "do_four(print,'5')"
   ]
  },
  {
   "cell_type": "markdown",
   "id": "fbc2bd93-cf93-4099-9ae2-394aa41d42ac",
   "metadata": {},
   "source": [
    "### Exercise 3-3"
   ]
  },
  {
   "cell_type": "code",
   "execution_count": 33,
   "id": "73ef12b5-26b8-4077-a2b6-6ff151ff1945",
   "metadata": {},
   "outputs": [],
   "source": [
    "#Remember, no using loops!\n",
    "def row_print(col):#parameter = columns\n",
    "    print(('+' + '-'*4)*(col-1) + '+')\n",
    "def column_print(col):\n",
    "    print(('|' + ' '*4)*(col-1) + '|')"
   ]
  },
  {
   "cell_type": "code",
   "execution_count": 36,
   "id": "74b611fd-c9f2-4551-a1f0-5da945f60200",
   "metadata": {},
   "outputs": [
    {
     "name": "stdout",
     "output_type": "stream",
     "text": [
      "+----+----+\n",
      "|    |    |\n",
      "|    |    |\n",
      "|    |    |\n",
      "|    |    |\n",
      "+----+----+\n",
      "|    |    |\n",
      "|    |    |\n",
      "|    |    |\n",
      "|    |    |\n",
      "+----+----+\n"
     ]
    }
   ],
   "source": [
    "#1\n",
    "col = 3\n",
    "row_print(col)\n",
    "column_print(col)\n",
    "column_print(col)\n",
    "column_print(col)\n",
    "column_print(col)\n",
    "row_print(col)\n",
    "column_print(col)\n",
    "column_print(col)\n",
    "column_print(col)\n",
    "column_print(col)\n",
    "row_print(col)"
   ]
  },
  {
   "cell_type": "code",
   "execution_count": 37,
   "id": "c89657ec-e457-4f86-9bd6-b0d6c541fe5f",
   "metadata": {},
   "outputs": [
    {
     "name": "stdout",
     "output_type": "stream",
     "text": [
      "+----+----+----+\n",
      "|    |    |    |\n",
      "|    |    |    |\n",
      "|    |    |    |\n",
      "|    |    |    |\n",
      "+----+----+----+\n",
      "|    |    |    |\n",
      "|    |    |    |\n",
      "|    |    |    |\n",
      "|    |    |    |\n",
      "+----+----+----+\n",
      "|    |    |    |\n",
      "|    |    |    |\n",
      "|    |    |    |\n",
      "|    |    |    |\n",
      "+----+----+----+\n"
     ]
    }
   ],
   "source": [
    "#2\n",
    "col = 4\n",
    "row_print(col)\n",
    "column_print(col)\n",
    "column_print(col)\n",
    "column_print(col)\n",
    "column_print(col)\n",
    "row_print(col)\n",
    "column_print(col)\n",
    "column_print(col)\n",
    "column_print(col)\n",
    "column_print(col)\n",
    "row_print(col)\n",
    "column_print(col)\n",
    "column_print(col)\n",
    "column_print(col)\n",
    "column_print(col)\n",
    "row_print(col)"
   ]
  }
 ],
 "metadata": {
  "kernelspec": {
   "display_name": "Python 3 (ipykernel)",
   "language": "python",
   "name": "python3"
  },
  "language_info": {
   "codemirror_mode": {
    "name": "ipython",
    "version": 3
   },
   "file_extension": ".py",
   "mimetype": "text/x-python",
   "name": "python",
   "nbconvert_exporter": "python",
   "pygments_lexer": "ipython3",
   "version": "3.10.5"
  }
 },
 "nbformat": 4,
 "nbformat_minor": 5
}
