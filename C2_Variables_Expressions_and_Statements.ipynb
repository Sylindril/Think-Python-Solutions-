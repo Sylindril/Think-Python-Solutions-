{
 "cells": [
  {
   "cell_type": "markdown",
   "id": "683a8c77-6606-4d29-a565-674f1e62294f",
   "metadata": {},
   "source": [
    "# Theory"
   ]
  },
  {
   "cell_type": "markdown",
   "id": "08cc36e7-fd13-43b8-acb6-00bbfa491806",
   "metadata": {},
   "source": [
    "Addition is commutative; string concatenation is not!"
   ]
  },
  {
   "cell_type": "code",
   "execution_count": 3,
   "id": "e3566e96-d1fb-448b-83e5-fdc0d29e0edd",
   "metadata": {},
   "outputs": [
    {
     "name": "stdout",
     "output_type": "stream",
     "text": [
      "8\n",
      "8\n",
      "Hello there!\n",
      "there!Hello \n"
     ]
    }
   ],
   "source": [
    "print(5+3)\n",
    "print(3+5)\n",
    "print(\"Hello \"+\"there!\")\n",
    "print(\"there!\" + \"Hello \") \n",
    "#Similarly for multiplication"
   ]
  },
  {
   "cell_type": "markdown",
   "id": "75477357-7231-4041-ab72-224c57300220",
   "metadata": {},
   "source": [
    "# Exercises"
   ]
  },
  {
   "cell_type": "code",
   "execution_count": 4,
   "id": "5403af15-5261-453b-a077-9ae28f972619",
   "metadata": {},
   "outputs": [],
   "source": [
    "#Exercise 2-1"
   ]
  },
  {
   "cell_type": "code",
   "execution_count": 6,
   "id": "21f44518-1604-4e43-8b51-e7b6746d8ef1",
   "metadata": {},
   "outputs": [
    {
     "ename": "SyntaxError",
     "evalue": "cannot assign to literal here. Maybe you meant '==' instead of '='? (3085276579.py, line 2)",
     "output_type": "error",
     "traceback": [
      "\u001b[1;36m  Input \u001b[1;32mIn [6]\u001b[1;36m\u001b[0m\n\u001b[1;33m    42 = n\u001b[0m\n\u001b[1;37m    ^\u001b[0m\n\u001b[1;31mSyntaxError\u001b[0m\u001b[1;31m:\u001b[0m cannot assign to literal here. Maybe you meant '==' instead of '='?\n"
     ]
    }
   ],
   "source": [
    "\n",
    "42 = n"
   ]
  },
  {
   "cell_type": "code",
   "execution_count": 8,
   "id": "2c008810-d088-4db0-b40d-224407b10943",
   "metadata": {},
   "outputs": [
    {
     "name": "stdout",
     "output_type": "stream",
     "text": [
      "1\n",
      "1\n"
     ]
    }
   ],
   "source": [
    "x = y = 1\n",
    "print(x)\n",
    "print(y)"
   ]
  },
  {
   "cell_type": "code",
   "execution_count": 10,
   "id": "72020f2f-708d-4fa1-98fe-ec42b427cadf",
   "metadata": {},
   "outputs": [
    {
     "name": "stdout",
     "output_type": "stream",
     "text": [
      "1\n"
     ]
    },
    {
     "data": {
      "text/plain": [
       "1"
      ]
     },
     "execution_count": 10,
     "metadata": {},
     "output_type": "execute_result"
    }
   ],
   "source": [
    "print(x);\n",
    "y"
   ]
  },
  {
   "cell_type": "code",
   "execution_count": 11,
   "id": "d50b95ae-0850-426a-809f-a41542f09bb0",
   "metadata": {},
   "outputs": [],
   "source": [
    "y;"
   ]
  },
  {
   "cell_type": "code",
   "execution_count": 12,
   "id": "c33be358-6d57-42fd-babe-10cca2a093ce",
   "metadata": {},
   "outputs": [
    {
     "ename": "SyntaxError",
     "evalue": "invalid syntax (3008632908.py, line 1)",
     "output_type": "error",
     "traceback": [
      "\u001b[1;36m  Input \u001b[1;32mIn [12]\u001b[1;36m\u001b[0m\n\u001b[1;33m    print(x).\u001b[0m\n\u001b[1;37m             ^\u001b[0m\n\u001b[1;31mSyntaxError\u001b[0m\u001b[1;31m:\u001b[0m invalid syntax\n"
     ]
    }
   ],
   "source": [
    "print(x)."
   ]
  },
  {
   "cell_type": "code",
   "execution_count": 13,
   "id": "a0eda64a-33bb-4f69-8f8b-79032e8c33cf",
   "metadata": {},
   "outputs": [
    {
     "ename": "NameError",
     "evalue": "name 'xy' is not defined",
     "output_type": "error",
     "traceback": [
      "\u001b[1;31m---------------------------------------------------------------------------\u001b[0m",
      "\u001b[1;31mNameError\u001b[0m                                 Traceback (most recent call last)",
      "Input \u001b[1;32mIn [13]\u001b[0m, in \u001b[0;36m<cell line: 1>\u001b[1;34m()\u001b[0m\n\u001b[1;32m----> 1\u001b[0m \u001b[43mxy\u001b[49m\n",
      "\u001b[1;31mNameError\u001b[0m: name 'xy' is not defined"
     ]
    }
   ],
   "source": [
    "xy"
   ]
  },
  {
   "cell_type": "code",
   "execution_count": 14,
   "id": "0a11aec4-687b-4ef4-ad78-0003f3717e2b",
   "metadata": {},
   "outputs": [],
   "source": [
    "#Exercise 2-2"
   ]
  },
  {
   "cell_type": "code",
   "execution_count": 15,
   "id": "b931ec4f-c392-4df2-84d5-f7102b456bae",
   "metadata": {},
   "outputs": [
    {
     "name": "stdout",
     "output_type": "stream",
     "text": [
      "523.3333333333334\n"
     ]
    }
   ],
   "source": [
    "#1\n",
    "r = 5\n",
    "print(4*3.14*r**3 /3)"
   ]
  },
  {
   "cell_type": "code",
   "execution_count": 16,
   "id": "8cdf416d-6278-447d-bd58-49f26598ae19",
   "metadata": {},
   "outputs": [
    {
     "data": {
      "text/plain": [
       "646.0500000000001"
      ]
     },
     "execution_count": 16,
     "metadata": {},
     "output_type": "execute_result"
    }
   ],
   "source": [
    "(24.95*0.4*60)+(3+59*0.75)"
   ]
  },
  {
   "cell_type": "code",
   "execution_count": 18,
   "id": "f68b4dde-4fbc-4faf-a97c-137513ba0cd6",
   "metadata": {},
   "outputs": [
    {
     "name": "stdout",
     "output_type": "stream",
     "text": [
      "We finish at 7.0 : 21.850000000000023\n"
     ]
    }
   ],
   "source": [
    "t_1mile_minutes = 1*(8*60 + 15)/60\n",
    "t_3miles_minutes = 3*(7*60 + 12)/60\n",
    "t_start_minutes = 6*60 + 52\n",
    "t_finish_minutes = t_start_minutes + t_1mile_minutes + t_3miles_minutes\n",
    "print(\"We finish at\",t_finish_minutes//60,\":\",t_finish_minutes%60)\n"
   ]
  },
  {
   "cell_type": "code",
   "execution_count": null,
   "id": "9531e7ce-3d8c-42a8-964b-8286b9063965",
   "metadata": {},
   "outputs": [],
   "source": []
  }
 ],
 "metadata": {
  "kernelspec": {
   "display_name": "Python 3 (ipykernel)",
   "language": "python",
   "name": "python3"
  },
  "language_info": {
   "codemirror_mode": {
    "name": "ipython",
    "version": 3
   },
   "file_extension": ".py",
   "mimetype": "text/x-python",
   "name": "python",
   "nbconvert_exporter": "python",
   "pygments_lexer": "ipython3",
   "version": "3.10.5"
  }
 },
 "nbformat": 4,
 "nbformat_minor": 5
}
