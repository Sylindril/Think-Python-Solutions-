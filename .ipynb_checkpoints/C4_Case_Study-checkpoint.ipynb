{
 "cells": [
  {
   "cell_type": "markdown",
   "id": "11cfada0-c659-40e6-a659-b972ba7c0919",
   "metadata": {},
   "source": [
    "# In-Text Exercises"
   ]
  },
  {
   "cell_type": "markdown",
   "id": "55c29e44-e9f9-4e1f-8696-6cb2326d3f39",
   "metadata": {},
   "source": [
    "#### Note: Exercises in this section (and in all sections) are my own attempts at the questions: This is NOT a reproduction of the solutions given in-text."
   ]
  },
  {
   "cell_type": "code",
   "execution_count": 1,
   "id": "fc90404c-607d-446b-a693-e111f7655424",
   "metadata": {},
   "outputs": [],
   "source": [
    "import turtle\n",
    "import math"
   ]
  },
  {
   "cell_type": "code",
   "execution_count": 2,
   "id": "c991c39a-1ec9-41c6-afc2-88984d4296d0",
   "metadata": {},
   "outputs": [
    {
     "name": "stdout",
     "output_type": "stream",
     "text": [
      "<turtle.Turtle object at 0x000001C61C522AD0>\n"
     ]
    }
   ],
   "source": [
    "bob = turtle.Turtle()\n",
    "print(bob)\n",
    "#turtle.mainloop()"
   ]
  },
  {
   "cell_type": "code",
   "execution_count": 3,
   "id": "1b7e2267-df4d-4e0f-a8cf-401abc1f4509",
   "metadata": {},
   "outputs": [],
   "source": [
    "bob.fd(100)"
   ]
  },
  {
   "cell_type": "code",
   "execution_count": 4,
   "id": "b4aecc6a-ee02-4575-9aa7-6d2463ab0953",
   "metadata": {},
   "outputs": [],
   "source": [
    "#Draw a right angle from where we start\n",
    "bob.lt(90)\n",
    "bob.fd(100)"
   ]
  },
  {
   "cell_type": "code",
   "execution_count": 5,
   "id": "34c8e8aa-47f8-43bf-9daf-24c6092ef32f",
   "metadata": {},
   "outputs": [],
   "source": [
    "#Creating a square without looping\n",
    "bob.lt(90)\n",
    "bob.fd(100)\n",
    "\n",
    "bob.lt(90)\n",
    "bob.fd(100)"
   ]
  },
  {
   "cell_type": "code",
   "execution_count": 6,
   "id": "2c08fda2-69d9-4d44-b42e-1f10122d55c3",
   "metadata": {},
   "outputs": [],
   "source": [
    "#Moving the cursor to a different location\n",
    "bob.pu()\n",
    "bob.fd(150)\n",
    "bob.lt(90)"
   ]
  },
  {
   "cell_type": "code",
   "execution_count": 7,
   "id": "2d36416b-4dcc-4188-964e-c3c0617f04d9",
   "metadata": {},
   "outputs": [],
   "source": [
    "bob.pd()\n",
    "for i in range(4):\n",
    "    bob.fd(100)\n",
    "    bob.lt(90)"
   ]
  },
  {
   "cell_type": "markdown",
   "id": "869d904b-b004-436b-8729-b523de5618b7",
   "metadata": {},
   "source": [
    "### Exercises in TurtleWorld"
   ]
  },
  {
   "cell_type": "code",
   "execution_count": 8,
   "id": "13093615-1433-4d40-bd0e-4ee3a134e89e",
   "metadata": {},
   "outputs": [],
   "source": [
    "#1\n",
    "def square(t):\n",
    "    t.pd()\n",
    "    for i in range(4):\n",
    "        t.fd(100)\n",
    "        t.lt(90)"
   ]
  },
  {
   "cell_type": "code",
   "execution_count": 9,
   "id": "55d9f52e-2bef-4c67-bd83-848e2b994a24",
   "metadata": {},
   "outputs": [],
   "source": [
    "#2\n",
    "def mod_square(t,length=100): #set default value of length to 100, if not specified\n",
    "    t.pd()\n",
    "    for i in range(4):\n",
    "        t.fd(length)\n",
    "        t.lt(90)"
   ]
  },
  {
   "cell_type": "code",
   "execution_count": 10,
   "id": "6a670382-e879-459d-a3f1-5d7f623e34aa",
   "metadata": {},
   "outputs": [],
   "source": [
    "#3\n",
    "def polygon(t,n,length=100):\n",
    "    t.pd()\n",
    "    for i in range(n):\n",
    "        t.fd(length)\n",
    "        t.lt(360/n)"
   ]
  },
  {
   "cell_type": "code",
   "execution_count": 11,
   "id": "84db6d6c-1ef4-4a7a-8c47-2910b67e7a3f",
   "metadata": {},
   "outputs": [],
   "source": [
    "#4\n",
    "def circle(t,r):\n",
    "    t.pd()\n",
    "    polygon(t,100,6.28*r/100)"
   ]
  },
  {
   "cell_type": "code",
   "execution_count": 12,
   "id": "7fe1faac-0005-42e0-9ab1-7f11b2e68931",
   "metadata": {},
   "outputs": [],
   "source": [
    "#5 \n",
    "def arc(t,r,angle):\n",
    "    t.pd()\n",
    "    #circumference = angle(in radians)*r\n",
    "    #circumference = perimeter of the approximate open polygon \n",
    "    n = 100 #number of discrete steps our polygon will take (sides)\n",
    "    l = 6.28*r/n #Each side of our polygon\n",
    "    for i in range(n):\n",
    "        t.fd(l)\n",
    "        t.lt(angle/n)\n",
    "    \n",
    "    "
   ]
  },
  {
   "cell_type": "code",
   "execution_count": 14,
   "id": "7d89c741-cbc6-4596-90b7-731dcf488df2",
   "metadata": {},
   "outputs": [],
   "source": [
    "#Testing\n",
    "# bob.pu()\n",
    "# bob.fd(200)\n",
    "# square(bob)\n",
    "# bob.pu()\n",
    "# bob.lt(90)\n",
    "# bob.fd(200)\n",
    "# bob.rt(90)\n",
    "# mod_square(bob,50)\n",
    "# bob.pu()\n",
    "# bob.lt(90)\n",
    "# bob.fd(200)\n",
    "# bob.rt(90)\n",
    "# polygon(bob,6,50)\n",
    "# bob.pu()\n",
    "# bob.fd(200)\n",
    "# circle(bob,50)\n",
    "# bob.pu()\n",
    "# bob.fd(200)\n",
    "# arc(bob,50, 360)"
   ]
  },
  {
   "cell_type": "code",
   "execution_count": null,
   "id": "681f35c9-b88c-4c3d-b010-db5da92138de",
   "metadata": {},
   "outputs": [],
   "source": [
    "#code from https://github.com/AllenDowney/ThinkPython2/blob/master/code/polygon.py\n",
    "\n",
    "from __future__ import print_function, division\n",
    "\n",
    "\n",
    "def square(t, length):\n",
    "    \"\"\"Draws a square with sides of the given length.\n",
    "    Returns the Turtle to the starting position and location.\n",
    "    \"\"\"\n",
    "    for i in range(4):\n",
    "        t.fd(length)\n",
    "        t.lt(90)\n",
    "\n",
    "\n",
    "def polyline(t, n, length, angle):\n",
    "    \"\"\"Draws n line segments.\n",
    "    t: Turtle object\n",
    "    n: number of line segments\n",
    "    length: length of each segment\n",
    "    angle: degrees between segments\n",
    "    \"\"\"\n",
    "    for i in range(n):\n",
    "        t.fd(length)\n",
    "        t.lt(angle)\n",
    "\n",
    "\n",
    "def polygon(t, n, length):\n",
    "    \"\"\"Draws a polygon with n sides.\n",
    "    t: Turtle\n",
    "    n: number of sides\n",
    "    length: length of each side.\n",
    "    \"\"\"\n",
    "    angle = 360.0/n\n",
    "    polyline(t, n, length, angle)\n",
    "\n",
    "\n",
    "def arc(t, r, angle):\n",
    "    \"\"\"Draws an arc with the given radius and angle.\n",
    "    t: Turtle\n",
    "    r: radius\n",
    "    angle: angle subtended by the arc, in degrees\n",
    "    \"\"\"\n",
    "    arc_length = 2 * math.pi * r * abs(angle) / 360\n",
    "    n = int(arc_length / 4) + 3\n",
    "    step_length = arc_length / n\n",
    "    step_angle = float(angle) / n\n",
    "\n",
    "    # making a slight left turn before starting reduces\n",
    "    # the error caused by the linear approximation of the arc\n",
    "    t.lt(step_angle/2)\n",
    "    polyline(t, n, step_length, step_angle)\n",
    "    t.rt(step_angle/2)\n",
    "\n",
    "\n",
    "def circle(t, r):\n",
    "    \"\"\"Draws a circle with the given radius.\n",
    "    t: Turtle\n",
    "    r: radius\n",
    "    \"\"\"\n",
    "    arc(t, r, 360)\n",
    "\n",
    "\n",
    "# the following condition checks whether we are\n",
    "# running as a script, in which case run the test code,\n",
    "# or being imported, in which case don't.\n",
    "\n",
    "if __name__ == '__main__':\n",
    "    bob = turtle.Turtle()\n",
    "\n",
    "    # draw a circle centered on the origin\n",
    "    radius = 100\n",
    "    bob.pu()\n",
    "    bob.fd(radius)\n",
    "    bob.lt(90)\n",
    "    bob.pd()\n",
    "    circle(bob, radius)\n",
    "\n",
    "    # wait for the user to close the window\n",
    "    turtle.mainloop()"
   ]
  }
 ],
 "metadata": {
  "kernelspec": {
   "display_name": "Python 3 (ipykernel)",
   "language": "python",
   "name": "python3"
  },
  "language_info": {
   "codemirror_mode": {
    "name": "ipython",
    "version": 3
   },
   "file_extension": ".py",
   "mimetype": "text/x-python",
   "name": "python",
   "nbconvert_exporter": "python",
   "pygments_lexer": "ipython3",
   "version": "3.10.5"
  }
 },
 "nbformat": 4,
 "nbformat_minor": 5
}
