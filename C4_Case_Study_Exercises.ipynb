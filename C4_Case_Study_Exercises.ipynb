{
 "cells": [
  {
   "cell_type": "markdown",
   "id": "31870e2d-628f-417b-85a5-211aa3b0f8bd",
   "metadata": {
    "tags": []
   },
   "source": [
    "# Exercises"
   ]
  },
  {
   "cell_type": "code",
   "execution_count": 1,
   "id": "b40aa955-3f48-4258-b03e-e729ae76f2ad",
   "metadata": {},
   "outputs": [],
   "source": [
    "#code from https://github.com/AllenDowney/ThinkPython2/blob/master/code/polygon.py\n",
    "\n",
    "import turtle\n",
    "import math\n",
    "from __future__ import print_function, division\n",
    "\n",
    "\n",
    "def square(t, length):\n",
    "    \"\"\"Draws a square with sides of the given length.\n",
    "    Returns the Turtle to the starting position and location.\n",
    "    \"\"\"\n",
    "    for i in range(4):\n",
    "        t.fd(length)\n",
    "        t.lt(90)\n",
    "\n",
    "\n",
    "def polyline(t, n, length, angle):\n",
    "    \"\"\"Draws n line segments.\n",
    "    t: Turtle object\n",
    "    n: number of line segments\n",
    "    length: length of each segment\n",
    "    angle: degrees between segments\n",
    "    \"\"\"\n",
    "    for i in range(n):\n",
    "        t.fd(length)\n",
    "        t.lt(angle)\n",
    "\n",
    "\n",
    "def polygon(t, n, length):\n",
    "    \"\"\"Draws a polygon with n sides.\n",
    "    t: Turtle\n",
    "    n: number of sides\n",
    "    length: length of each side.\n",
    "    \"\"\"\n",
    "    angle = 360.0/n\n",
    "    polyline(t, n, length, angle)\n",
    "\n",
    "\n",
    "def arc(t, r, angle):\n",
    "    \"\"\"Draws an arc with the given radius and angle.\n",
    "    t: Turtle\n",
    "    r: radius\n",
    "    angle: angle subtended by the arc, in degrees\n",
    "    \"\"\"\n",
    "    arc_length = 2 * math.pi * r * abs(angle) / 360\n",
    "    n = int(arc_length / 4) + 3\n",
    "    step_length = arc_length / n\n",
    "    step_angle = float(angle) / n\n",
    "\n",
    "    # making a slight left turn before starting reduces\n",
    "    # the error caused by the linear approximation of the arc\n",
    "    t.lt(step_angle/2)\n",
    "    polyline(t, n, step_length, step_angle)\n",
    "    t.rt(step_angle/2)\n",
    "\n",
    "\n",
    "def circle(t, r):\n",
    "    \"\"\"Draws a circle with the given radius.\n",
    "    t: Turtle\n",
    "    r: radius\n",
    "    \"\"\"\n",
    "    arc(t, r, 360)\n",
    "\n",
    "\n",
    "# the following condition checks whether we are\n",
    "# running as a script, in which case run the test code,\n",
    "# or being imported, in which case don't.\n",
    "\n",
    "if __name__ == '__main__':\n",
    "    bob = turtle.Turtle()\n",
    "\n",
    "    # draw a circle centered on the origin\n",
    "    radius = 100\n",
    "    bob.pu()\n",
    "    bob.fd(radius)\n",
    "    bob.lt(90)\n",
    "    bob.pd()\n",
    "    #circle(bob, radius)\n",
    "\n",
    "    # wait for the user to close the window\n",
    "    #turtle.mainloop()"
   ]
  },
  {
   "cell_type": "markdown",
   "id": "87c28bda-07d9-4cf9-9781-06733290f2f2",
   "metadata": {},
   "source": [
    "### Exercise 4-1"
   ]
  },
  {
   "cell_type": "code",
   "execution_count": 2,
   "id": "26c89510-56be-448a-ad88-69021dd62fcb",
   "metadata": {},
   "outputs": [],
   "source": [
    "#1"
   ]
  },
  {
   "cell_type": "code",
   "execution_count": 3,
   "id": "d94bbd44-8a2f-49be-8724-4238e2db54cf",
   "metadata": {},
   "outputs": [
    {
     "name": "stdout",
     "output_type": "stream",
     "text": [
      "__main__ -> circle -> arc -> polyline (Flow of control)\n",
      "__main__ :\n",
      "    bob    ---> turtle.Turtle()\n",
      "    radius ---> 100\n",
      "    \n",
      "circle :\n",
      "      t ---> bob\n",
      "      r ---> 100\n",
      "      \n",
      "arc :\n",
      "    t           ---> bob\n",
      "    r           ---> 100\n",
      "    angle       ---> 360\n",
      "    arc_length  ---> 628.3185307179587\n",
      "    n           ---> 158\n",
      "    step_length ---> 3.9766995615060674\n",
      "    step_angle  ---> 2.278481012658228\n",
      "      \n",
      "polyline:\n",
      "    t      ---> bob\n",
      "    n      ---> 158\n",
      "    length ---> 3.9766995615060674\n",
      "    angle  ---> 2.278481012658228\n"
     ]
    }
   ],
   "source": [
    "print(\"__main__ -> circle -> arc -> polyline (Flow of control)\")\n",
    "print('''__main__ :\n",
    "    bob    ---> turtle.Turtle()\n",
    "    radius ---> 100\n",
    "    \n",
    "circle :\n",
    "      t ---> bob\n",
    "      r ---> 100\n",
    "      \n",
    "arc :\n",
    "    t           ---> bob\n",
    "    r           ---> 100\n",
    "    angle       ---> 360\n",
    "    arc_length  ---> 628.3185307179587\n",
    "    n           ---> 158\n",
    "    step_length ---> 3.9766995615060674\n",
    "    step_angle  ---> 2.278481012658228\n",
    "      \n",
    "polyline:\n",
    "    t      ---> bob\n",
    "    n      ---> 158\n",
    "    length ---> 3.9766995615060674\n",
    "    angle  ---> 2.278481012658228''')\n",
    "     \n",
    "          "
   ]
  },
  {
   "cell_type": "code",
   "execution_count": 4,
   "id": "94b26387-e75f-494e-9896-0201a681e83c",
   "metadata": {},
   "outputs": [],
   "source": [
    "#2"
   ]
  },
  {
   "cell_type": "code",
   "execution_count": 5,
   "id": "a6bc10ab-c33d-4c90-9411-19371ee5effc",
   "metadata": {},
   "outputs": [],
   "source": [
    "#To understand this, we make some modifications:\n"
   ]
  },
  {
   "cell_type": "code",
   "execution_count": 6,
   "id": "bd3e929f-b116-4019-8933-afe1c2b2290d",
   "metadata": {},
   "outputs": [],
   "source": [
    "#define another type of arc, without the correction terms\n",
    "def mod_arc(t, r, angle):\n",
    "    \"\"\"Draws an arc with the given radius and angle.\n",
    "    t: Turtle\n",
    "    r: radius\n",
    "    angle: angle subtended by the arc, in degrees\n",
    "    \"\"\"\n",
    "    arc_length = 2 * math.pi * r * abs(angle) / 360\n",
    "    n = int(arc_length / 4) + 3\n",
    "    step_length = arc_length / n\n",
    "    step_angle = float(angle) / n\n",
    "\n",
    "    \n",
    "    polyline(t, n, step_length, step_angle)\n",
    "\n"
   ]
  },
  {
   "cell_type": "code",
   "execution_count": 7,
   "id": "0845d8f7-7e70-47f4-a4c1-0a0e9e0a7116",
   "metadata": {},
   "outputs": [
    {
     "ename": "SyntaxError",
     "evalue": "incomplete input (4151363350.py, line 7)",
     "output_type": "error",
     "traceback": [
      "\u001b[1;36m  Input \u001b[1;32mIn [7]\u001b[1;36m\u001b[0m\n\u001b[1;33m    '''\u001b[0m\n\u001b[1;37m    ^\u001b[0m\n\u001b[1;31mSyntaxError\u001b[0m\u001b[1;31m:\u001b[0m incomplete input\n"
     ]
    }
   ],
   "source": [
    "#Now, create an arc from both methods\n",
    "# arc(bob, radius, 360)\n",
    "# mod_arc(bob,radius, 360)\n",
    "\n",
    "#Now, we can see some difference but it's not very clear. \n",
    "#Thus, we go deeper - let's draw a polyline with and without corrections in the form of an inscribed polygon\n",
    "'''\n",
    "#No correction - Hexagon 1\n",
    "polygon(bob, 6, 100)\n",
    "\n",
    "#Correction - Hexagon 2\n",
    "bob.lt(30)\n",
    "polyline(bob, 6, 100, 60)\n",
    "bob.rt(30)\n",
    "\n",
    "circle(bob,100)\n"
   ]
  },
  {
   "cell_type": "markdown",
   "id": "641efae1-75e4-4564-aa65-66f3f656d73d",
   "metadata": {},
   "source": [
    "#### Here, we see the difference - this code produces two hexagons, and a circle. To make the answer clear, only focus on the first side drawn by the turtle from both polygons. Hexagon 1's side is tangent to the circle, and thus coincides at one point - Thus, it is always outside the circle except at one point. Hexagon 2's side is a secant to the circle, and has two points in common to the circle, thus making it a \"better\" finite approximation. As the number of sides of the approximating polygon increase, both of these polygons converge exactly to form the cycle, but at all intermediate steps, the secant is a better approximation, even if marginally."
   ]
  },
  {
   "cell_type": "markdown",
   "id": "7159b437-fb86-4da7-bdf8-08a5f1ab6b26",
   "metadata": {},
   "source": [
    "### Exercise 4-2"
   ]
  },
  {
   "cell_type": "code",
   "execution_count": 20,
   "id": "6e9013e9-b7c3-4efb-b3fc-958aedb92f7f",
   "metadata": {},
   "outputs": [],
   "source": [
    "def flower(t,petals,radius):\n",
    "    '''\n",
    "    Draws a flower with n petals of specified length, composed of two arcs of given radius, using the turtle t.\n",
    "    '''\n",
    "    #Here, I realise that what I want to do is create a petal, then change the orientation of the turtle, and repeat.\n",
    "    for i in range(petals):\n",
    "        petal(t,radius, 180/petals)\n",
    "        t.lt(180)\n",
    "\n",
    "def petal(t,radius, angle):\n",
    "    '''\n",
    "    Draw a petal of composed of two arcs of given radiuss and angle using a turtle t\n",
    "    '''\n",
    "    \n",
    "    arc(t,radius, 2*angle)\n",
    "    t.lt(180-2*angle)\n",
    "    arc(t,radius,2*angle)\n",
    "        \n",
    "    "
   ]
  },
  {
   "cell_type": "code",
   "execution_count": 24,
   "id": "e3e086af-a802-4708-b6ad-a21f59d92f2a",
   "metadata": {},
   "outputs": [],
   "source": [
    "bob.reset()\n",
    "bob.speed(0)\n",
    "flower(bob,9,300)\n",
    "flower(bob,10,100)\n"
   ]
  },
  {
   "cell_type": "code",
   "execution_count": null,
   "id": "71547d42-e279-477c-8467-dc2728aa4ed9",
   "metadata": {},
   "outputs": [],
   "source": []
  }
 ],
 "metadata": {
  "kernelspec": {
   "display_name": "Python 3 (ipykernel)",
   "language": "python",
   "name": "python3"
  },
  "language_info": {
   "codemirror_mode": {
    "name": "ipython",
    "version": 3
   },
   "file_extension": ".py",
   "mimetype": "text/x-python",
   "name": "python",
   "nbconvert_exporter": "python",
   "pygments_lexer": "ipython3",
   "version": "3.10.5"
  }
 },
 "nbformat": 4,
 "nbformat_minor": 5
}
