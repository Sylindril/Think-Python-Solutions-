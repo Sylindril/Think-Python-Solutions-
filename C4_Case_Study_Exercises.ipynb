{
 "cells": [
  {
   "cell_type": "markdown",
   "id": "31870e2d-628f-417b-85a5-211aa3b0f8bd",
   "metadata": {
    "tags": []
   },
   "source": [
    "# Exercises"
   ]
  },
  {
   "cell_type": "code",
   "execution_count": 1,
   "id": "b40aa955-3f48-4258-b03e-e729ae76f2ad",
   "metadata": {},
   "outputs": [],
   "source": [
    "#code from https://github.com/AllenDowney/ThinkPython2/blob/master/code/polygon.py\n",
    "\n",
    "import turtle\n",
    "import math\n",
    "from __future__ import print_function, division\n",
    "\n",
    "\n",
    "def square(t, length):\n",
    "    \"\"\"Draws a square with sides of the given length.\n",
    "    Returns the Turtle to the starting position and location.\n",
    "    \"\"\"\n",
    "    for i in range(4):\n",
    "        t.fd(length)\n",
    "        t.lt(90)\n",
    "\n",
    "\n",
    "def polyline(t, n, length, angle):\n",
    "    \"\"\"Draws n line segments.\n",
    "    t: Turtle object\n",
    "    n: number of line segments\n",
    "    length: length of each segment\n",
    "    angle: degrees between segments\n",
    "    \"\"\"\n",
    "    for i in range(n):\n",
    "        t.fd(length)\n",
    "        t.lt(angle)\n",
    "\n",
    "\n",
    "def polygon(t, n, length):\n",
    "    \"\"\"Draws a polygon with n sides.\n",
    "    t: Turtle\n",
    "    n: number of sides\n",
    "    length: length of each side.\n",
    "    \"\"\"\n",
    "    angle = 360.0/n\n",
    "    polyline(t, n, length, angle)\n",
    "\n",
    "\n",
    "def arc(t, r, angle):\n",
    "    \"\"\"Draws an arc with the given radius and angle.\n",
    "    t: Turtle\n",
    "    r: radius\n",
    "    angle: angle subtended by the arc, in degrees\n",
    "    \"\"\"\n",
    "    arc_length = 2 * math.pi * r * abs(angle) / 360\n",
    "    n = int(arc_length / 4) + 3\n",
    "    step_length = arc_length / n\n",
    "    step_angle = float(angle) / n\n",
    "\n",
    "    # making a slight left turn before starting reduces\n",
    "    # the error caused by the linear approximation of the arc\n",
    "    t.lt(step_angle/2)\n",
    "    polyline(t, n, step_length, step_angle)\n",
    "    t.rt(step_angle/2)\n",
    "\n",
    "\n",
    "def circle(t, r):\n",
    "    \"\"\"Draws a circle with the given radius.\n",
    "    t: Turtle\n",
    "    r: radius\n",
    "    \"\"\"\n",
    "    arc(t, r, 360)\n",
    "\n",
    "\n",
    "# the following condition checks whether we are\n",
    "# running as a script, in which case run the test code,\n",
    "# or being imported, in which case don't.\n",
    "\n",
    "if __name__ == '__main__':\n",
    "    bob = turtle.Turtle()\n",
    "\n",
    "    # draw a circle centered on the origin\n",
    "    radius = 100\n",
    "    bob.pu()\n",
    "    bob.fd(radius)\n",
    "    bob.lt(90)\n",
    "    bob.pd()\n",
    "    #circle(bob, radius)\n",
    "\n",
    "    # wait for the user to close the window\n",
    "    #turtle.mainloop()"
   ]
  },
  {
   "cell_type": "markdown",
   "id": "87c28bda-07d9-4cf9-9781-06733290f2f2",
   "metadata": {},
   "source": [
    "### Exercise 4-1"
   ]
  },
  {
   "cell_type": "code",
   "execution_count": 2,
   "id": "26c89510-56be-448a-ad88-69021dd62fcb",
   "metadata": {},
   "outputs": [],
   "source": [
    "#1"
   ]
  },
  {
   "cell_type": "code",
   "execution_count": 3,
   "id": "d94bbd44-8a2f-49be-8724-4238e2db54cf",
   "metadata": {},
   "outputs": [
    {
     "name": "stdout",
     "output_type": "stream",
     "text": [
      "__main__ -> circle -> arc -> polyline (Flow of control)\n",
      "__main__ :\n",
      "    bob    ---> turtle.Turtle()\n",
      "    radius ---> 100\n",
      "    \n",
      "circle :\n",
      "      t ---> bob\n",
      "      r ---> 100\n",
      "      \n",
      "arc :\n",
      "    t           ---> bob\n",
      "    r           ---> 100\n",
      "    angle       ---> 360\n",
      "    arc_length  ---> 628.3185307179587\n",
      "    n           ---> 158\n",
      "    step_length ---> 3.9766995615060674\n",
      "    step_angle  ---> 2.278481012658228\n",
      "      \n",
      "polyline:\n",
      "    t      ---> bob\n",
      "    n      ---> 158\n",
      "    length ---> 3.9766995615060674\n",
      "    angle  ---> 2.278481012658228\n"
     ]
    }
   ],
   "source": [
    "print(\"__main__ -> circle -> arc -> polyline (Flow of control)\")\n",
    "print('''__main__ :\n",
    "    bob    ---> turtle.Turtle()\n",
    "    radius ---> 100\n",
    "    \n",
    "circle :\n",
    "      t ---> bob\n",
    "      r ---> 100\n",
    "      \n",
    "arc :\n",
    "    t           ---> bob\n",
    "    r           ---> 100\n",
    "    angle       ---> 360\n",
    "    arc_length  ---> 628.3185307179587\n",
    "    n           ---> 158\n",
    "    step_length ---> 3.9766995615060674\n",
    "    step_angle  ---> 2.278481012658228\n",
    "      \n",
    "polyline:\n",
    "    t      ---> bob\n",
    "    n      ---> 158\n",
    "    length ---> 3.9766995615060674\n",
    "    angle  ---> 2.278481012658228''')\n",
    "     \n",
    "          "
   ]
  },
  {
   "cell_type": "code",
   "execution_count": 4,
   "id": "94b26387-e75f-494e-9896-0201a681e83c",
   "metadata": {},
   "outputs": [],
   "source": [
    "#2"
   ]
  },
  {
   "cell_type": "code",
   "execution_count": 5,
   "id": "a6bc10ab-c33d-4c90-9411-19371ee5effc",
   "metadata": {},
   "outputs": [],
   "source": [
    "#To understand this, we make some modifications:\n"
   ]
  },
  {
   "cell_type": "code",
   "execution_count": 6,
   "id": "bd3e929f-b116-4019-8933-afe1c2b2290d",
   "metadata": {},
   "outputs": [],
   "source": [
    "#define another type of arc, without the correction terms\n",
    "def mod_arc(t, r, angle):\n",
    "    \"\"\"Draws an arc with the given radius and angle.\n",
    "    t: Turtle\n",
    "    r: radius\n",
    "    angle: angle subtended by the arc, in degrees\n",
    "    \"\"\"\n",
    "    arc_length = 2 * math.pi * r * abs(angle) / 360\n",
    "    n = int(arc_length / 4) + 3\n",
    "    step_length = arc_length / n\n",
    "    step_angle = float(angle) / n\n",
    "\n",
    "    \n",
    "    polyline(t, n, step_length, step_angle)\n",
    "\n"
   ]
  },
  {
   "cell_type": "code",
   "execution_count": 7,
   "id": "0845d8f7-7e70-47f4-a4c1-0a0e9e0a7116",
   "metadata": {},
   "outputs": [],
   "source": [
    "#Now, create an arc from both methods\n",
    "# arc(bob, radius, 360)\n",
    "# mod_arc(bob,radius, 360)\n",
    "\n",
    "#Now, we can see some difference but it's not very clear. \n",
    "#Thus, we go deeper - let's draw a polyline with and without corrections in the form of an inscribed polygon\n",
    "\n",
    "#No correction - Hexagon 1\n",
    "polygon(bob, 6, 100)\n",
    "\n",
    "#Correction - Hexagon 2\n",
    "bob.lt(30)\n",
    "polyline(bob, 6, 100, 60)\n",
    "bob.rt(30)\n",
    "\n",
    "circle(bob,100)\n"
   ]
  },
  {
   "cell_type": "markdown",
   "id": "641efae1-75e4-4564-aa65-66f3f656d73d",
   "metadata": {},
   "source": [
    "#### Here, we see the difference - this code produces two hexagons, and a circle. To make the answer clear, only focus on the first side drawn by the turtle from both polygons. Hexagon 1's side is tangent to the circle, and thus coincides at one point - Thus, it is always outside the circle except at one point. Hexagon 2's side is a secant to the circle, and has two points in common to the circle, thus making it a \"better\" finite approximation. As the number of sides of the approximating polygon increase, both of these polygons converge exactly to form the cycle, but at all intermediate steps, the secant is a better approximation, even if marginally."
   ]
  },
  {
   "cell_type": "markdown",
   "id": "7159b437-fb86-4da7-bdf8-08a5f1ab6b26",
   "metadata": {},
   "source": [
    "### Exercise 4-2"
   ]
  },
  {
   "cell_type": "code",
   "execution_count": 8,
   "metadata": {
    "collapsed": false
   },
   "outputs": [],
   "source": [
    "def petal(t,radius, angle):\n",
    "    '''\n",
    "    Draw a petal of composed of two arcs of given radius and angle using a turtle t\n",
    "    '''\n",
    "\n",
    "    arc(t,radius, angle)\n",
    "    t.lt(180-angle)\n",
    "    arc(t,radius, angle)\n",
    "    t.lt(180-angle)\n",
    "\n",
    "\n",
    "def flower(t, petal_num, radius, angle_petal):\n",
    "    '''\n",
    "   Draws a flower with petal_num petals, each composed of two arcs (semi-petals) of given radius of curvature which subtend an angle angle_petal each at the centre of their respective radii of curvature, using the turtle t.\n",
    "   '''\n",
    "    t.speed(0)\n",
    "    rotation_angle = 360/petal_num\n",
    "    for i in range(petal_num):\n",
    "        petal(t,radius, angle_petal)\n",
    "        t.lt(rotation_angle)\n",
    "\n"
   ]
  },
  {
   "cell_type": "code",
   "execution_count": 9,
   "metadata": {
    "collapsed": false
   },
   "outputs": [],
   "source": [
    "bob.reset()\n",
    "flower(bob,12,100,60)"
   ]
  },
  {
   "cell_type": "markdown",
   "metadata": {
    "collapsed": false
   },
   "source": [
    "### Exercise 4-3"
   ]
  },
  {
   "cell_type": "code",
   "execution_count": 39,
   "metadata": {
    "collapsed": false
   },
   "outputs": [],
   "source": [
    "#What I want is to draw several isosceles triangles of a user-specified side length, with the apex angle depending on number of triangles\n",
    "bob.reset()\n",
    "def isosceles_triangle(t,side_length, angle):\n",
    "    '''Draws an isosceles triangle of specified equal side lengths which include a specified angle between them, with a turtle t'''\n",
    "    base_length =  2*side_length*math.sin(angle*math.pi/360)#Remember, math.sin() takes its arguments in radians!\n",
    "    t.fd(side_length)\n",
    "    t.lt(90 + angle/2)\n",
    "    t.fd(base_length)\n",
    "    t.lt(90 + angle/2)\n",
    "    t.fd(side_length)\n",
    "    t.lt(180)\n",
    "\n",
    "def turtle_pies(t:turtle, side_length:float, n:int):\n",
    "    '''Draws an n-slice turtle pie with turtle t, and the side length of each slice as side_length'''\n",
    "    angle = 360/n\n",
    "    for i in range(n):\n",
    "        isosceles_triangle(t, side_length, angle)\n",
    "\n",
    "turtle_pies(bob, 150, 7)"
   ]
  },
  {
   "attachments": {},
   "cell_type": "markdown",
   "id": "47a7bfc3",
   "metadata": {},
   "source": [
    "### Exercise 4-4 :\n",
    "Omitted. Honestly, it's quite laborious and if you've done the first three, this has little to teach you."
   ]
  },
  {
   "attachments": {},
   "cell_type": "markdown",
   "id": "3c1e521f",
   "metadata": {},
   "source": [
    "### Exercise 4-5:\n",
    "\n",
    "https://en.wikipedia.org/wiki/Archimedean_spiral\n",
    "\n",
    "The Archimedean spiral (also known as the arithmetic spiral) is a spiral named after the 3rd-century BC Greek mathematician Archimedes. It is the locus corresponding to the locations over time of a point moving away from a fixed point with a constant speed along a line that rotates with constant angular velocity. Equivalently, in polar coordinates (r, θ) it can be described by the equation\n",
    "\n",
    "r = a + b⋅θ\n",
    "\n",
    "with real numbers a and b. Changing the parameter a moves the centerpoint of the spiral outward from the origin (positive a toward θ = 0 and negative a toward θ = π) essentially through a rotation of the spiral, while b controls the distance between loops."
   ]
  },
  {
   "cell_type": "code",
   "execution_count": 2,
   "id": "4cd86e98",
   "metadata": {},
   "outputs": [],
   "source": [
    "#Obtained from https://github.com/AllenDowney/ThinkPython2/blob/master/code/spiral.py\n",
    "def draw_spiral(t, n, length=3, a=0.1, b=0.0002):\n",
    "    \"\"\"Draws an Archimedian spiral starting at the origin.\n",
    "    Args:\n",
    "      n: how many line segments to draw\n",
    "      length: how long each segment is\n",
    "      a: how loose the initial spiral starts out (larger is looser)\n",
    "      b: how loosly coiled the spiral is (larger is looser)\n",
    "    http://en.wikipedia.org/wiki/Spiral\n",
    "    \"\"\"\n",
    "    theta = 0.0\n",
    "\n",
    "    for i in range(n):\n",
    "        t.fd(length)\n",
    "        dtheta = 1 / (a + b * theta)\n",
    "\n",
    "        t.lt(dtheta)\n",
    "        theta += dtheta\n",
    "\n",
    "\n",
    "# create the world and bob\n",
    "bob.reset()\n",
    "draw_spiral(bob, n=1000)"
   ]
  },
  {
   "cell_type": "code",
   "execution_count": null,
   "id": "7d4ea6e2",
   "metadata": {},
   "outputs": [],
   "source": []
  }
 ],
 "metadata": {
  "kernelspec": {
   "display_name": "Python 3.10.5 64-bit",
   "language": "python",
   "name": "python3"
  },
  "language_info": {
   "codemirror_mode": {
    "name": "ipython",
    "version": 3
   },
   "file_extension": ".py",
   "mimetype": "text/x-python",
   "name": "python",
   "nbconvert_exporter": "python",
   "pygments_lexer": "ipython3",
   "version": "3.10.5"
  },
  "vscode": {
   "interpreter": {
    "hash": "ee42737b6b74079cdc0e58b60fb51f7d11e738c5dd7c09528a58dc8ee013b234"
   }
  }
 },
 "nbformat": 4,
 "nbformat_minor": 5
}
