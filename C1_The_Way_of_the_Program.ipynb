{
 "cells": [
  {
   "cell_type": "markdown",
   "id": "a36ad5b4-7634-4ee2-8748-171027904c7b",
   "metadata": {},
   "source": [
    "# In-Text Examples"
   ]
  },
  {
   "cell_type": "code",
   "execution_count": 1,
   "id": "865e19d3-fef7-453d-aa43-ea06f0b61131",
   "metadata": {},
   "outputs": [
    {
     "data": {
      "text/plain": [
       "2"
      ]
     },
     "execution_count": 1,
     "metadata": {},
     "output_type": "execute_result"
    }
   ],
   "source": [
    "1+1"
   ]
  },
  {
   "cell_type": "code",
   "execution_count": 4,
   "id": "5096a387-a97d-4656-89ad-1e0bc8acefdf",
   "metadata": {},
   "outputs": [
    {
     "name": "stdout",
     "output_type": "stream",
     "text": [
      "Hello, World\n"
     ]
    }
   ],
   "source": [
    "print(\"Hello, World\")"
   ]
  },
  {
   "cell_type": "code",
   "execution_count": 7,
   "id": "c3dbd089-7cfc-438f-840b-e97e3e282ee4",
   "metadata": {},
   "outputs": [
    {
     "name": "stdout",
     "output_type": "stream",
     "text": [
      "[42, 41, 42]\n"
     ]
    }
   ],
   "source": [
    "print([40+2,\n",
    "43-2,\n",
    "6*7])"
   ]
  },
  {
   "cell_type": "code",
   "execution_count": 8,
   "id": "64a29bcd-9047-4428-bf30-636d627475ae",
   "metadata": {},
   "outputs": [
    {
     "data": {
      "text/plain": [
       "42.0"
      ]
     },
     "execution_count": 8,
     "metadata": {},
     "output_type": "execute_result"
    }
   ],
   "source": [
    "84/2"
   ]
  },
  {
   "cell_type": "code",
   "execution_count": 9,
   "id": "5eae0a9a-8d7a-49ef-b2ef-d9ed1f5d741f",
   "metadata": {},
   "outputs": [
    {
     "data": {
      "text/plain": [
       "42"
      ]
     },
     "execution_count": 9,
     "metadata": {},
     "output_type": "execute_result"
    }
   ],
   "source": [
    "6**2+6"
   ]
  },
  {
   "cell_type": "code",
   "execution_count": 10,
   "id": "a1edffc4-6949-4e26-9047-ece62db88cff",
   "metadata": {},
   "outputs": [
    {
     "data": {
      "text/plain": [
       "4"
      ]
     },
     "execution_count": 10,
     "metadata": {},
     "output_type": "execute_result"
    }
   ],
   "source": [
    "6^2"
   ]
  },
  {
   "cell_type": "code",
   "execution_count": 18,
   "id": "eedc23c2-4f6e-4c30-acd5-c2217fb7cc90",
   "metadata": {},
   "outputs": [
    {
     "name": "stdout",
     "output_type": "stream",
     "text": [
      "[<class 'int'>, <class 'float'>, <class 'str'>, <class 'str'>, <class 'str'>]\n"
     ]
    }
   ],
   "source": [
    "print([type(2),\n",
    "type(42.0),\n",
    "type('Hello World'), type('2'),type('42.0')])"
   ]
  },
  {
   "cell_type": "code",
   "execution_count": 19,
   "id": "2f3edb06-a82a-430f-9e2e-37cc3f8d1400",
   "metadata": {},
   "outputs": [
    {
     "data": {
      "text/plain": [
       "(1, 0, 0)"
      ]
     },
     "execution_count": 19,
     "metadata": {},
     "output_type": "execute_result"
    }
   ],
   "source": [
    "1,000,000"
   ]
  },
  {
   "cell_type": "markdown",
   "id": "059e9f61-83fd-4487-a643-6691750ad3e7",
   "metadata": {},
   "source": [
    "# Exercises"
   ]
  },
  {
   "cell_type": "markdown",
   "id": "0d797265-3c7e-4155-a58a-842812a1ed60",
   "metadata": {},
   "source": [
    "### Exercise 1-1"
   ]
  },
  {
   "cell_type": "code",
   "execution_count": 24,
   "id": "72df3b0b-27f7-48e1-8407-2040360a140d",
   "metadata": {},
   "outputs": [
    {
     "ename": "NameError",
     "evalue": "name 'Print' is not defined",
     "output_type": "error",
     "traceback": [
      "\u001b[1;31m---------------------------------------------------------------------------\u001b[0m",
      "\u001b[1;31mNameError\u001b[0m                                 Traceback (most recent call last)",
      "Input \u001b[1;32mIn [24]\u001b[0m, in \u001b[0;36m<cell line: 2>\u001b[1;34m()\u001b[0m\n\u001b[0;32m      1\u001b[0m \u001b[38;5;66;03m#1\u001b[39;00m\n\u001b[1;32m----> 2\u001b[0m \u001b[43mPrint\u001b[49m(\u001b[38;5;124m\"\u001b[39m\u001b[38;5;124mHello,world!\u001b[39m\u001b[38;5;124m\"\u001b[39m)\n",
      "\u001b[1;31mNameError\u001b[0m: name 'Print' is not defined"
     ]
    }
   ],
   "source": [
    "#1\n",
    "Print(\"Hello,world!\")"
   ]
  },
  {
   "cell_type": "code",
   "execution_count": 25,
   "id": "a060240e-6ce3-41d3-81f8-e92d811d6a63",
   "metadata": {},
   "outputs": [
    {
     "ename": "SyntaxError",
     "evalue": "invalid syntax (2744483945.py, line 2)",
     "output_type": "error",
     "traceback": [
      "\u001b[1;36m  Input \u001b[1;32mIn [25]\u001b[1;36m\u001b[0m\n\u001b[1;33m    print(Hello,world!)\u001b[0m\n\u001b[1;37m                     ^\u001b[0m\n\u001b[1;31mSyntaxError\u001b[0m\u001b[1;31m:\u001b[0m invalid syntax\n"
     ]
    }
   ],
   "source": [
    "#2\n",
    "print(Hello,world!)"
   ]
  },
  {
   "cell_type": "code",
   "execution_count": 26,
   "id": "7e5bad2e-f1f3-47d4-bf5d-4ee344d6c4c0",
   "metadata": {},
   "outputs": [
    {
     "ename": "SyntaxError",
     "evalue": "unterminated string literal (detected at line 1) (4074548660.py, line 1)",
     "output_type": "error",
     "traceback": [
      "\u001b[1;36m  Input \u001b[1;32mIn [26]\u001b[1;36m\u001b[0m\n\u001b[1;33m    print(\"Hello,World!)\u001b[0m\n\u001b[1;37m          ^\u001b[0m\n\u001b[1;31mSyntaxError\u001b[0m\u001b[1;31m:\u001b[0m unterminated string literal (detected at line 1)\n"
     ]
    }
   ],
   "source": [
    "print(\"Hello,World!)"
   ]
  },
  {
   "cell_type": "code",
   "execution_count": 27,
   "id": "9f295e7e-dac5-4e6c-9a47-ba27b047049c",
   "metadata": {},
   "outputs": [
    {
     "data": {
      "text/plain": [
       "4"
      ]
     },
     "execution_count": 27,
     "metadata": {},
     "output_type": "execute_result"
    }
   ],
   "source": [
    "2++2"
   ]
  },
  {
   "cell_type": "code",
   "execution_count": 28,
   "id": "5805d9e8-ec6e-41b1-8943-6860a012f919",
   "metadata": {},
   "outputs": [
    {
     "ename": "SyntaxError",
     "evalue": "leading zeros in decimal integer literals are not permitted; use an 0o prefix for octal integers (1226883751.py, line 1)",
     "output_type": "error",
     "traceback": [
      "\u001b[1;36m  Input \u001b[1;32mIn [28]\u001b[1;36m\u001b[0m\n\u001b[1;33m    02+7\u001b[0m\n\u001b[1;37m    ^\u001b[0m\n\u001b[1;31mSyntaxError\u001b[0m\u001b[1;31m:\u001b[0m leading zeros in decimal integer literals are not permitted; use an 0o prefix for octal integers\n"
     ]
    }
   ],
   "source": [
    "02+7"
   ]
  },
  {
   "cell_type": "code",
   "execution_count": 29,
   "id": "064f73d9-6a15-4306-b166-1e05a7984fa3",
   "metadata": {},
   "outputs": [
    {
     "ename": "SyntaxError",
     "evalue": "invalid syntax (2754406400.py, line 1)",
     "output_type": "error",
     "traceback": [
      "\u001b[1;36m  Input \u001b[1;32mIn [29]\u001b[1;36m\u001b[0m\n\u001b[1;33m    7 8\u001b[0m\n\u001b[1;37m      ^\u001b[0m\n\u001b[1;31mSyntaxError\u001b[0m\u001b[1;31m:\u001b[0m invalid syntax\n"
     ]
    }
   ],
   "source": [
    "7 8"
   ]
  },
  {
   "cell_type": "markdown",
   "id": "a86e9d8e-41cf-4492-a19b-9c40e8d27aab",
   "metadata": {},
   "source": [
    "### Exercise 1-2"
   ]
  },
  {
   "cell_type": "code",
   "execution_count": 30,
   "id": "16082c87-7643-44f3-b384-ff0623d010a2",
   "metadata": {},
   "outputs": [
    {
     "data": {
      "text/plain": [
       "2562"
      ]
     },
     "execution_count": 30,
     "metadata": {},
     "output_type": "execute_result"
    }
   ],
   "source": [
    "#1\n",
    "42*60 + 42"
   ]
  },
  {
   "cell_type": "code",
   "execution_count": 31,
   "id": "a9dfc5a6-9854-4bf4-9f73-e2ba12b8ee4e",
   "metadata": {},
   "outputs": [
    {
     "data": {
      "text/plain": [
       "6.211180124223602"
      ]
     },
     "execution_count": 31,
     "metadata": {},
     "output_type": "execute_result"
    }
   ],
   "source": [
    "#2\n",
    "10/1.61"
   ]
  },
  {
   "cell_type": "code",
   "execution_count": 35,
   "id": "fb4ea69f-164c-43f3-9325-ca2b2754e339",
   "metadata": {},
   "outputs": [
    {
     "name": "stdout",
     "output_type": "stream",
     "text": [
      "0.0039032006245121\n",
      "0.0024243482139826703\n",
      "0.14546089283896022\n",
      "8.727653570337614\n"
     ]
    }
   ],
   "source": [
    "#3\n",
    "#Speed in Km/s\n",
    "print(10/(42*60+42))\n",
    "#Speed in miles/s\n",
    "print(10/(1.61*(42*60 + 42)))\n",
    "#Speed in miles/min\n",
    "print(10*60/(1.61*(42*60 +42)))\n",
    "#Speed in miles/hour\n",
    "print(60*10*60/(1.61*(42*60 +42)))"
   ]
  },
  {
   "cell_type": "code",
   "execution_count": null,
   "id": "4799d3c9-15fd-4927-b902-d3f3d9b2dc98",
   "metadata": {},
   "outputs": [],
   "source": []
  }
 ],
 "metadata": {
  "kernelspec": {
   "display_name": "Python 3 (ipykernel)",
   "language": "python",
   "name": "python3"
  },
  "language_info": {
   "codemirror_mode": {
    "name": "ipython",
    "version": 3
   },
   "file_extension": ".py",
   "mimetype": "text/x-python",
   "name": "python",
   "nbconvert_exporter": "python",
   "pygments_lexer": "ipython3",
   "version": "3.10.5"
  }
 },
 "nbformat": 4,
 "nbformat_minor": 5
}
